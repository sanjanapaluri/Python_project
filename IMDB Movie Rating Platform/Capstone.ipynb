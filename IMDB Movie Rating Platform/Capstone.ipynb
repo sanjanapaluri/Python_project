{
 "cells": [
  {
   "cell_type": "code",
   "execution_count": 42,
   "id": "38d92eb2",
   "metadata": {},
   "outputs": [],
   "source": [
    "import pandas as pd"
   ]
  },
  {
   "cell_type": "code",
   "execution_count": 43,
   "id": "383e1ef8",
   "metadata": {},
   "outputs": [],
   "source": [
    "df = pd.read_csv(\"IMDB-Movie-Data.xlsx.csv\")"
   ]
  },
  {
   "cell_type": "code",
   "execution_count": 44,
   "id": "9c212983",
   "metadata": {},
   "outputs": [
    {
     "data": {
      "text/html": [
       "<div>\n",
       "<style scoped>\n",
       "    .dataframe tbody tr th:only-of-type {\n",
       "        vertical-align: middle;\n",
       "    }\n",
       "\n",
       "    .dataframe tbody tr th {\n",
       "        vertical-align: top;\n",
       "    }\n",
       "\n",
       "    .dataframe thead th {\n",
       "        text-align: right;\n",
       "    }\n",
       "</style>\n",
       "<table border=\"1\" class=\"dataframe\">\n",
       "  <thead>\n",
       "    <tr style=\"text-align: right;\">\n",
       "      <th></th>\n",
       "      <th>ID</th>\n",
       "      <th>Title</th>\n",
       "      <th>Genre</th>\n",
       "      <th>Director</th>\n",
       "      <th>Year</th>\n",
       "      <th>Runtime_minutes</th>\n",
       "      <th>Rating</th>\n",
       "      <th>Votes</th>\n",
       "      <th>Revenue_millions</th>\n",
       "    </tr>\n",
       "  </thead>\n",
       "  <tbody>\n",
       "    <tr>\n",
       "      <th>0</th>\n",
       "      <td>1</td>\n",
       "      <td>Guardians of the Galaxy</td>\n",
       "      <td>Action</td>\n",
       "      <td>James Gunn</td>\n",
       "      <td>2014</td>\n",
       "      <td>121</td>\n",
       "      <td>8.1</td>\n",
       "      <td>757074</td>\n",
       "      <td>333.13</td>\n",
       "    </tr>\n",
       "    <tr>\n",
       "      <th>1</th>\n",
       "      <td>2</td>\n",
       "      <td>Prometheus</td>\n",
       "      <td>Adventure</td>\n",
       "      <td>Ridley Scott</td>\n",
       "      <td>2012</td>\n",
       "      <td>124</td>\n",
       "      <td>7.0</td>\n",
       "      <td>485820</td>\n",
       "      <td>126.46</td>\n",
       "    </tr>\n",
       "    <tr>\n",
       "      <th>2</th>\n",
       "      <td>3</td>\n",
       "      <td>Split</td>\n",
       "      <td>Horror</td>\n",
       "      <td>M. Night Shyamalan</td>\n",
       "      <td>2016</td>\n",
       "      <td>117</td>\n",
       "      <td>7.3</td>\n",
       "      <td>157606</td>\n",
       "      <td>138.12</td>\n",
       "    </tr>\n",
       "    <tr>\n",
       "      <th>3</th>\n",
       "      <td>4</td>\n",
       "      <td>Sing</td>\n",
       "      <td>Animation</td>\n",
       "      <td>Christophe Lourdelet</td>\n",
       "      <td>2016</td>\n",
       "      <td>108</td>\n",
       "      <td>7.2</td>\n",
       "      <td>60545</td>\n",
       "      <td>270.32</td>\n",
       "    </tr>\n",
       "    <tr>\n",
       "      <th>4</th>\n",
       "      <td>5</td>\n",
       "      <td>Suicide Squad</td>\n",
       "      <td>Action</td>\n",
       "      <td>David Ayer</td>\n",
       "      <td>2016</td>\n",
       "      <td>123</td>\n",
       "      <td>6.2</td>\n",
       "      <td>393727</td>\n",
       "      <td>325.02</td>\n",
       "    </tr>\n",
       "    <tr>\n",
       "      <th>...</th>\n",
       "      <td>...</td>\n",
       "      <td>...</td>\n",
       "      <td>...</td>\n",
       "      <td>...</td>\n",
       "      <td>...</td>\n",
       "      <td>...</td>\n",
       "      <td>...</td>\n",
       "      <td>...</td>\n",
       "      <td>...</td>\n",
       "    </tr>\n",
       "    <tr>\n",
       "      <th>995</th>\n",
       "      <td>996</td>\n",
       "      <td>Secret in Their Eyes</td>\n",
       "      <td>Crime</td>\n",
       "      <td>Billy Ray</td>\n",
       "      <td>2015</td>\n",
       "      <td>111</td>\n",
       "      <td>6.2</td>\n",
       "      <td>27585</td>\n",
       "      <td>NaN</td>\n",
       "    </tr>\n",
       "    <tr>\n",
       "      <th>996</th>\n",
       "      <td>997</td>\n",
       "      <td>Hostel: Part II</td>\n",
       "      <td>Horror</td>\n",
       "      <td>Eli Roth</td>\n",
       "      <td>2007</td>\n",
       "      <td>94</td>\n",
       "      <td>5.5</td>\n",
       "      <td>73152</td>\n",
       "      <td>17.54</td>\n",
       "    </tr>\n",
       "    <tr>\n",
       "      <th>997</th>\n",
       "      <td>998</td>\n",
       "      <td>Step Up 2: The Streets</td>\n",
       "      <td>Drama</td>\n",
       "      <td>Jon M. Chu</td>\n",
       "      <td>2008</td>\n",
       "      <td>98</td>\n",
       "      <td>6.2</td>\n",
       "      <td>70699</td>\n",
       "      <td>58.01</td>\n",
       "    </tr>\n",
       "    <tr>\n",
       "      <th>998</th>\n",
       "      <td>999</td>\n",
       "      <td>Search Party</td>\n",
       "      <td>Adventure</td>\n",
       "      <td>Scot Armstrong</td>\n",
       "      <td>2014</td>\n",
       "      <td>93</td>\n",
       "      <td>5.6</td>\n",
       "      <td>4881</td>\n",
       "      <td>NaN</td>\n",
       "    </tr>\n",
       "    <tr>\n",
       "      <th>999</th>\n",
       "      <td>1000</td>\n",
       "      <td>Nine Lives</td>\n",
       "      <td>Comedy</td>\n",
       "      <td>Barry Sonnenfeld</td>\n",
       "      <td>2016</td>\n",
       "      <td>87</td>\n",
       "      <td>5.3</td>\n",
       "      <td>12435</td>\n",
       "      <td>19.64</td>\n",
       "    </tr>\n",
       "  </tbody>\n",
       "</table>\n",
       "<p>1000 rows × 9 columns</p>\n",
       "</div>"
      ],
      "text/plain": [
       "       ID                    Title      Genre              Director  Year  \\\n",
       "0       1  Guardians of the Galaxy     Action            James Gunn  2014   \n",
       "1       2               Prometheus  Adventure          Ridley Scott  2012   \n",
       "2       3                    Split     Horror    M. Night Shyamalan  2016   \n",
       "3       4                     Sing  Animation  Christophe Lourdelet  2016   \n",
       "4       5            Suicide Squad     Action            David Ayer  2016   \n",
       "..    ...                      ...        ...                   ...   ...   \n",
       "995   996     Secret in Their Eyes      Crime             Billy Ray  2015   \n",
       "996   997          Hostel: Part II     Horror              Eli Roth  2007   \n",
       "997   998   Step Up 2: The Streets      Drama            Jon M. Chu  2008   \n",
       "998   999             Search Party  Adventure        Scot Armstrong  2014   \n",
       "999  1000               Nine Lives     Comedy      Barry Sonnenfeld  2016   \n",
       "\n",
       "     Runtime_minutes  Rating   Votes  Revenue_millions  \n",
       "0                121     8.1  757074            333.13  \n",
       "1                124     7.0  485820            126.46  \n",
       "2                117     7.3  157606            138.12  \n",
       "3                108     7.2   60545            270.32  \n",
       "4                123     6.2  393727            325.02  \n",
       "..               ...     ...     ...               ...  \n",
       "995              111     6.2   27585               NaN  \n",
       "996               94     5.5   73152             17.54  \n",
       "997               98     6.2   70699             58.01  \n",
       "998               93     5.6    4881               NaN  \n",
       "999               87     5.3   12435             19.64  \n",
       "\n",
       "[1000 rows x 9 columns]"
      ]
     },
     "execution_count": 44,
     "metadata": {},
     "output_type": "execute_result"
    }
   ],
   "source": [
    "df"
   ]
  },
  {
   "cell_type": "markdown",
   "id": "be2109dc",
   "metadata": {},
   "source": [
    "** Question 1 \n",
    "\n",
    "What is the 75th percentile of rating in the IMDB dataset?"
   ]
  },
  {
   "cell_type": "code",
   "execution_count": 45,
   "id": "dd4f8020",
   "metadata": {},
   "outputs": [
    {
     "data": {
      "text/plain": [
       "7.4"
      ]
     },
     "execution_count": 45,
     "metadata": {},
     "output_type": "execute_result"
    }
   ],
   "source": [
    "df[\"Rating\"].quantile(q=0.75)"
   ]
  },
  {
   "cell_type": "markdown",
   "id": "422e720a",
   "metadata": {},
   "source": [
    "** Question 2\n",
    "\n",
    "How many NA values are there in the field ‘Revenue’?"
   ]
  },
  {
   "cell_type": "code",
   "execution_count": 46,
   "id": "43bb205c",
   "metadata": {},
   "outputs": [
    {
     "data": {
      "text/plain": [
       "ID                    0\n",
       "Title                 0\n",
       "Genre                 0\n",
       "Director              0\n",
       "Year                  0\n",
       "Runtime_minutes       0\n",
       "Rating                0\n",
       "Votes                 0\n",
       "Revenue_millions    128\n",
       "dtype: int64"
      ]
     },
     "execution_count": 46,
     "metadata": {},
     "output_type": "execute_result"
    }
   ],
   "source": [
    "df.isna().sum()"
   ]
  },
  {
   "cell_type": "markdown",
   "id": "0c44b285",
   "metadata": {},
   "source": [
    "*** Question 3\n",
    "\n",
    "How many movies have revenue higher than 75 million?"
   ]
  },
  {
   "cell_type": "code",
   "execution_count": 18,
   "id": "bb3b756f",
   "metadata": {},
   "outputs": [
    {
     "data": {
      "text/plain": [
       "318"
      ]
     },
     "execution_count": 18,
     "metadata": {},
     "output_type": "execute_result"
    }
   ],
   "source": [
    "df[df['Revenue_millions'] > 75].shape[0]"
   ]
  },
  {
   "cell_type": "markdown",
   "id": "b484bee9",
   "metadata": {},
   "source": [
    "** Question 4\n",
    "\n",
    "How many movies have revenue greater than 50 million but rating less than 7?"
   ]
  },
  {
   "cell_type": "code",
   "execution_count": 19,
   "id": "dade30d1",
   "metadata": {},
   "outputs": [
    {
     "data": {
      "text/plain": [
       "211"
      ]
     },
     "execution_count": 19,
     "metadata": {},
     "output_type": "execute_result"
    }
   ],
   "source": [
    "df[(df[\"Revenue_millions\"] > 50) & (df[\"Rating\"] < 7)].shape[0]"
   ]
  },
  {
   "cell_type": "markdown",
   "id": "f3d5ae02",
   "metadata": {},
   "source": [
    "** Question 5\n",
    "\n",
    "What is the total revenue generated by movies in the year 2015?"
   ]
  },
  {
   "cell_type": "code",
   "execution_count": 20,
   "id": "1c31727b",
   "metadata": {},
   "outputs": [
    {
     "data": {
      "text/plain": [
       "8854.119999999999"
      ]
     },
     "execution_count": 20,
     "metadata": {},
     "output_type": "execute_result"
    }
   ],
   "source": [
    "df[df[\"Year\"]==2015][\"Revenue_millions\"].sum()"
   ]
  },
  {
   "cell_type": "markdown",
   "id": "e6555db5",
   "metadata": {},
   "source": [
    "** Question 6\n",
    "\n",
    "What is the average rating for the genre adventure in the year 2015?"
   ]
  },
  {
   "cell_type": "code",
   "execution_count": 21,
   "id": "e1b9af7e",
   "metadata": {},
   "outputs": [
    {
     "data": {
      "text/plain": [
       "6.8"
      ]
     },
     "execution_count": 21,
     "metadata": {},
     "output_type": "execute_result"
    }
   ],
   "source": [
    "df[(df[\"Year\"]==2015) & (df[\"Genre\"]==\"Adventure\")][\"Rating\"].mean()"
   ]
  },
  {
   "cell_type": "markdown",
   "id": "e771ed9c",
   "metadata": {},
   "source": [
    "** Question 7\n",
    "\n",
    "What is the average duration of movies in rows 75 to 150? Please note that the rows in python start from 0."
   ]
  },
  {
   "cell_type": "code",
   "execution_count": 101,
   "id": "3425ad49",
   "metadata": {},
   "outputs": [
    {
     "data": {
      "text/plain": [
       "127.61333333333333"
      ]
     },
     "execution_count": 101,
     "metadata": {},
     "output_type": "execute_result"
    }
   ],
   "source": [
    "df.iloc[75:150][\"Runtime_minutes\"].mean()"
   ]
  },
  {
   "cell_type": "markdown",
   "id": "b2a27358",
   "metadata": {},
   "source": [
    "** Question 8\n",
    "\n",
    "Which year generated the highest revenue?"
   ]
  },
  {
   "cell_type": "code",
   "execution_count": 102,
   "id": "f776a259",
   "metadata": {},
   "outputs": [
    {
     "data": {
      "text/plain": [
       "Year\n",
       "2006     3624.46\n",
       "2007     4306.23\n",
       "2008     5053.22\n",
       "2009     5292.26\n",
       "2010     5989.65\n",
       "2011     5431.96\n",
       "2012     6910.29\n",
       "2013     7666.72\n",
       "2014     7997.40\n",
       "2015     8854.12\n",
       "2016    11211.65\n",
       "Name: Revenue_millions, dtype: float64"
      ]
     },
     "execution_count": 102,
     "metadata": {},
     "output_type": "execute_result"
    }
   ],
   "source": [
    "df.groupby(\"Year\")[\"Revenue_millions\"].sum() "
   ]
  },
  {
   "cell_type": "markdown",
   "id": "db298e93",
   "metadata": {},
   "source": [
    "** Question 9\n",
    "\n",
    "What is the maximum revenue out of (10,20,30,40,50) rows?"
   ]
  },
  {
   "cell_type": "code",
   "execution_count": 103,
   "id": "4f480f96",
   "metadata": {},
   "outputs": [
    {
     "data": {
      "text/plain": [
       "936.63"
      ]
     },
     "execution_count": 103,
     "metadata": {},
     "output_type": "execute_result"
    }
   ],
   "source": [
    "df.iloc[[10, 20, 30, 40, 50]]['Revenue_millions'].max()"
   ]
  },
  {
   "cell_type": "markdown",
   "id": "bcea91a3",
   "metadata": {},
   "source": [
    "** Question 10\n",
    "\n",
    "How many movies with the genres ‘Adventure’, ‘Action’, ‘Horror’, and ‘Crime’ exist in the IMDB dataset?"
   ]
  },
  {
   "cell_type": "code",
   "execution_count": 104,
   "id": "d4dd8047",
   "metadata": {},
   "outputs": [
    {
     "data": {
      "text/plain": [
       "485"
      ]
     },
     "execution_count": 104,
     "metadata": {},
     "output_type": "execute_result"
    }
   ],
   "source": [
    "df[\"Genre\"].isin([\"Adventure\", \"Action\", \"Horror\",\"Crime\"]).sum()"
   ]
  },
  {
   "cell_type": "markdown",
   "id": "a18789a7",
   "metadata": {},
   "source": [
    "** Question 11\n",
    "\n",
    "Create a genre-level report with metrics average rating, the average number of votes, and average revenue. What is the average rating of the ‘Horror’ genre? (Round to 2 decimal places)"
   ]
  },
  {
   "cell_type": "code",
   "execution_count": 105,
   "id": "5f025df5",
   "metadata": {},
   "outputs": [
    {
     "data": {
      "text/plain": [
       "Genre\n",
       "Action       6.59\n",
       "Adventure    6.91\n",
       "Animation    7.32\n",
       "Biography    7.32\n",
       "Comedy       6.49\n",
       "Crime        6.81\n",
       "Drama        6.95\n",
       "Fantasy      5.85\n",
       "Horror       5.87\n",
       "Mystery      6.88\n",
       "Romance      6.60\n",
       "Sci-Fi       4.97\n",
       "Thriller     5.96\n",
       "Name: Rating, dtype: float64"
      ]
     },
     "execution_count": 105,
     "metadata": {},
     "output_type": "execute_result"
    }
   ],
   "source": [
    "df.groupby(\"Genre\").agg({'Rating': 'mean','Votes': 'mean','Revenue_millions': 'mean'})[\"Rating\"].round(2)"
   ]
  },
  {
   "cell_type": "markdown",
   "id": "6dcafb08",
   "metadata": {},
   "source": [
    "*** Create a report to showcase the revenue of each movie, as % revenue concerning the total revenue of the respective genre and year of the movie.\n",
    "\n",
    "For example if a movie ‘ABC’ has genre ‘Action’ and released in 2015, then % revenue will be \n",
    "\n",
    "- (Revenue of the movie ‘ABC’ *100)/ (Total revenue of the genre ‘Action’ in 2015)\n",
    "\n",
    " What is the  % revenue of the movie ‘Split’ in its respective genre and year?\n",
    "\n",
    "\n",
    "Hint:\n",
    "\n",
    "Create a dataset which has revenue for each genre within a year\n",
    "Rename the column as ‘Total_revenue’\n",
    "Merge the dataset with cleaned dataset so that total revenue is mapped to each movie\n",
    "Just apply percent formula using apply(lamda)\n",
    "  Revenue of movie * 100 / (Total revenue of genre and year)"
   ]
  },
  {
   "cell_type": "code",
   "execution_count": 106,
   "id": "ad8a570c",
   "metadata": {},
   "outputs": [],
   "source": [
    "genre_year_revenue = df.groupby(['Genre', 'Year'])['Revenue_millions'].sum().reset_index()\n",
    "genre_year_revenue.rename(columns={'Revenue_millions': 'Total_revenue'}, inplace=True)"
   ]
  },
  {
   "cell_type": "code",
   "execution_count": 107,
   "id": "95c0f6a9",
   "metadata": {},
   "outputs": [],
   "source": [
    "merged_data = pd.merge(df, genre_year_revenue, on=['Genre', 'Year'])"
   ]
  },
  {
   "cell_type": "code",
   "execution_count": 108,
   "id": "21840ec7",
   "metadata": {},
   "outputs": [],
   "source": [
    "merged_data['Percentage_revenue'] = (merged_data['Revenue_millions'] * 100) / merged_data['Total_revenue']"
   ]
  },
  {
   "cell_type": "markdown",
   "id": "97d4b6bb",
   "metadata": {},
   "source": [
    "** Question 12 \n",
    "\n",
    "Query the merged dataset for ‘Split’ movie"
   ]
  },
  {
   "cell_type": "code",
   "execution_count": 109,
   "id": "d461bc3d",
   "metadata": {},
   "outputs": [
    {
     "data": {
      "text/plain": [
       "29.42041024985622"
      ]
     },
     "execution_count": 109,
     "metadata": {},
     "output_type": "execute_result"
    }
   ],
   "source": [
    "merged_data.loc[merged_data['Title'] == 'Split', 'Percentage_revenue'].values[0]"
   ]
  },
  {
   "cell_type": "markdown",
   "id": "b85ea206",
   "metadata": {},
   "source": [
    "*** Add a column ‘Votes_norm’ in the IMDB dataset using apply() function where Votes_norm is \n",
    "\n",
    "[Votes - min(Votes)]*10/[max(votes) - min(votes)\n",
    "\n",
    "The above formula is the normalization formula and converts votes into a scale of 0-10."
   ]
  },
  {
   "cell_type": "code",
   "execution_count": 115,
   "id": "efee7811",
   "metadata": {},
   "outputs": [],
   "source": [
    "min_votes = df['Votes'].min()\n",
    "max_votes = df['Votes'].max()"
   ]
  },
  {
   "cell_type": "code",
   "execution_count": 116,
   "id": "dd618830",
   "metadata": {},
   "outputs": [],
   "source": [
    "def normalize_votes(row):\n",
    "    return ((row['Votes'] - min_votes) * 10) / (max_votes - min_votes)"
   ]
  },
  {
   "cell_type": "code",
   "execution_count": 118,
   "id": "2cb133ce",
   "metadata": {},
   "outputs": [],
   "source": [
    "df['Votes_norm'] = df.apply(normalize_votes, axis=1)"
   ]
  },
  {
   "cell_type": "markdown",
   "id": "de367552",
   "metadata": {},
   "source": [
    "** Question 13\n",
    "\n",
    "What is the average ‘Votes_norm’ ? (Round to two decimal places)"
   ]
  },
  {
   "cell_type": "code",
   "execution_count": 119,
   "id": "b9500935",
   "metadata": {},
   "outputs": [
    {
     "data": {
      "text/plain": [
       "0.95"
      ]
     },
     "execution_count": 119,
     "metadata": {},
     "output_type": "execute_result"
    }
   ],
   "source": [
    "df.apply(normalize_votes, axis=1).mean().round(2)"
   ]
  },
  {
   "cell_type": "markdown",
   "id": "ba88027e",
   "metadata": {},
   "source": [
    "*** Add a column ‘Total_rating’  in the IMDB dataset using apply() function where Total_rating is ‘Rating’+ ‘Votes_norm’."
   ]
  },
  {
   "cell_type": "code",
   "execution_count": 128,
   "id": "d914ada6",
   "metadata": {},
   "outputs": [],
   "source": [
    "def calculate_total_rating(row):return row['Rating'] + row['Votes_norm']"
   ]
  },
  {
   "cell_type": "markdown",
   "id": "17fe420c",
   "metadata": {},
   "source": [
    "** Question 14\n",
    "\n",
    "What is the highest ‘Total_rating’ ?"
   ]
  },
  {
   "cell_type": "code",
   "execution_count": 129,
   "id": "5d29d5ea",
   "metadata": {},
   "outputs": [],
   "source": [
    "df['Total_rating'] = df.apply(calculate_total_rating, axis=1)\n",
    "highest_total_rating = df['Total_rating'].max()"
   ]
  },
  {
   "cell_type": "code",
   "execution_count": 131,
   "id": "2b9fb9eb",
   "metadata": {},
   "outputs": [
    {
     "data": {
      "text/plain": [
       "19.0"
      ]
     },
     "execution_count": 131,
     "metadata": {},
     "output_type": "execute_result"
    }
   ],
   "source": [
    "highest_total_rating"
   ]
  },
  {
   "cell_type": "markdown",
   "id": "8603293e",
   "metadata": {},
   "source": [
    "** Question 15\n",
    "\n",
    "Create a new column ‘Revenue_bins’ so that ‘Revenue_millions’ are categorized in buckets 0-50, 51-100, 101-150, and 150+. Which bucket has the highest number of movies?"
   ]
  },
  {
   "cell_type": "code",
   "execution_count": 68,
   "id": "c83cf57c",
   "metadata": {},
   "outputs": [],
   "source": [
    "bin_edges = [0, 50, 100, 150, float('inf')]"
   ]
  },
  {
   "cell_type": "code",
   "execution_count": 69,
   "id": "d30f3d01",
   "metadata": {},
   "outputs": [],
   "source": [
    "bin_labels = ['0-50', '51-100', '101-150', '150+']"
   ]
  },
  {
   "cell_type": "code",
   "execution_count": 70,
   "id": "379aa1eb",
   "metadata": {},
   "outputs": [
    {
     "data": {
      "text/plain": [
       "'0-50'"
      ]
     },
     "execution_count": 70,
     "metadata": {},
     "output_type": "execute_result"
    }
   ],
   "source": [
    "pd.cut(df['Revenue_millions'], bins=bin_edges, labels=bin_labels, right=False).value_counts().idxmax()"
   ]
  },
  {
   "cell_type": "markdown",
   "id": "867f4209",
   "metadata": {},
   "source": [
    "** Question 16\n",
    "\n",
    "How many directors have created movies in the highest number of genres?"
   ]
  },
  {
   "cell_type": "code",
   "execution_count": 81,
   "id": "df89bfbc",
   "metadata": {},
   "outputs": [
    {
     "data": {
      "text/plain": [
       "(                Director      Genre  Title\n",
       " 0             Aamir Khan      Drama      1\n",
       " 1    Abdellatif Kechiche      Drama      1\n",
       " 2              Adam Leon     Comedy      1\n",
       " 3             Adam McKay     Action      2\n",
       " 4             Adam McKay  Biography      1\n",
       " ..                   ...        ...    ...\n",
       " 818          Yimou Zhang     Action      1\n",
       " 819     Yorgos Lanthimos     Comedy      1\n",
       " 820     Yorgos Lanthimos      Drama      1\n",
       " 821          Zack Snyder     Action      5\n",
       " 822        Zackary Adler      Crime      1\n",
       " \n",
       " [823 rows x 3 columns],\n",
       " 8)"
      ]
     },
     "execution_count": 81,
     "metadata": {},
     "output_type": "execute_result"
    }
   ],
   "source": [
    "ds = df.groupby(['Director', 'Genre'])['Title'].count().reset_index(),df.groupby('Director')['Genre'].count().reset_index()['Genre'].max()\n",
    "ds"
   ]
  },
  {
   "cell_type": "code",
   "execution_count": 84,
   "id": "70ee2de3",
   "metadata": {},
   "outputs": [
    {
     "data": {
      "text/plain": [
       "2"
      ]
     },
     "execution_count": 84,
     "metadata": {},
     "output_type": "execute_result"
    }
   ],
   "source": [
    "len(ds)"
   ]
  },
  {
   "cell_type": "code",
   "execution_count": null,
   "id": "f5862033",
   "metadata": {},
   "outputs": [],
   "source": []
  }
 ],
 "metadata": {
  "kernelspec": {
   "display_name": "Python 3 (ipykernel)",
   "language": "python",
   "name": "python3"
  },
  "language_info": {
   "codemirror_mode": {
    "name": "ipython",
    "version": 3
   },
   "file_extension": ".py",
   "mimetype": "text/x-python",
   "name": "python",
   "nbconvert_exporter": "python",
   "pygments_lexer": "ipython3",
   "version": "3.10.9"
  }
 },
 "nbformat": 4,
 "nbformat_minor": 5
}
